{
 "cells": [
  {
   "cell_type": "code",
   "execution_count": null,
   "metadata": {},
   "outputs": [],
   "source": [
    "from ThermalModel import model"
   ]
  },
  {
   "cell_type": "code",
   "execution_count": null,
   "metadata": {},
   "outputs": [],
   "source": [
    "parameters = [8.31610794e-01, 1.00005334e+02, 8.00017809e+01, 9.99793006e+01, \\\n",
    "       4.99933918e+01, 9.99984915e+01, 9.99965506e+01, 6.99965902e+01, \\\n",
    "       2.17728646e+00, 1.51579324e+00, 1.64037262e+00, 1.87205841e+00, \\\n",
    "       1.94065377e+00, 1.87334522e+00, 1.98481554e+00, 4.00000000e+04, \\\n",
    "       4.00000000e+04, 8.00000000e+04, 2.00000000e+04, 4.00000000e+04, \\\n",
    "       5.00000000e+04, 3.00000000e+04, 5.32466072e-01, 3.05035940e+00, \\\n",
    "       1.03310060e+00, 1.03216767e+00, 1.00911253e+00, 1.99751941e+00]\n",
    "\n",
    "m = model()"
   ]
  }
 ],
 "metadata": {
  "language_info": {
   "name": "python"
  },
  "orig_nbformat": 4
 },
 "nbformat": 4,
 "nbformat_minor": 2
}
