{
 "cells": [
  {
   "cell_type": "code",
   "execution_count": 7,
   "metadata": {},
   "outputs": [],
   "source": [
    "from ThermalModel import model"
   ]
  },
  {
   "cell_type": "code",
   "execution_count": 8,
   "metadata": {},
   "outputs": [],
   "source": [
    "#Take the parameters (should be after optimization) and create the thermal model with these parameters\n",
    "parameters = [8.42040975e-01, 9.07199349e-01, 8.30888607e-01, 1.01678353e+00,\n",
    "       1.01553883e+00, 8.66141672e-01, 9.60239456e-01, 9.45792720e-01,\n",
    "       2.31437101e+00, 1.73752783e+00, 1.93418497e+00, 2.06772780e+00,\n",
    "       2.10182587e+00, 2.12738584e+00, 2.33342418e+00, 4.00000013e+04,\n",
    "       4.00000025e+04, 8.00000004e+04, 1.99999996e+04, 3.99999996e+04,\n",
    "       5.00000034e+04, 3.00000008e+04, 4.73782938e-01, 3.01802666e+00,\n",
    "       9.82772549e-01, 9.89680582e-01, 1.01587378e+00, 2.00787922e+00]\n",
    "\n",
    "model = model()\n",
    "model.setParameters(parameters)"
   ]
  },
  {
   "cell_type": "code",
   "execution_count": 64,
   "metadata": {},
   "outputs": [],
   "source": [
    "\n",
    "paramsIDs = ['f', 'q', 'q', 'q', 'q', 'q', 'q', 'q',\\\n",
    "    'R', 'R', 'R', 'R', 'R', 'R', 'R',\\\n",
    "    'C', 'C', 'C', 'C', 'C', 'C', 'C',\\\n",
    "    'R', 'R', 'R', 'R', 'R', 'R']\n",
    "\n",
    "#Prior belief we have about the parameters befor trainig\n",
    "def getArguments(label):\n",
    "    if label == 'f':\n",
    "        loc =0\n",
    "        scale = 10\n",
    "    elif label == 'q':\n",
    "        loc = 0\n",
    "        scale = 100\n",
    "    elif label == 'R':\n",
    "        loc = 0\n",
    "        scale = 100\n",
    "    elif label == 'C':\n",
    "        loc = 10**4\n",
    "        scale = 10000\n",
    "    return loc, scale"
   ]
  },
  {
   "cell_type": "code",
   "execution_count": 65,
   "metadata": {},
   "outputs": [],
   "source": [
    "from scipy.stats import uniform \n",
    "import numpy as np\n",
    "\n",
    "#Define the prior and the posterior belief\n",
    "def log_prior( params = None):\n",
    "    tot = 0\n",
    "    for i, p in enumerate(params):\n",
    "        l, s = getArguments(paramsIDs[i])\n",
    "        tot += uniform.logpdf(p, loc=l, scale=s)\n",
    "    return tot\n",
    "\n"
   ]
  },
  {
   "cell_type": "code",
   "execution_count": 66,
   "metadata": {},
   "outputs": [],
   "source": [
    "\n",
    "def log_posterior(params = None):\n",
    "    lp = log_prior(params)\n",
    "    if not np.isfinite(lp):\n",
    "        return -np.inf\n",
    "    tmp = lp + model.log_likelihood(params, training = True)\n",
    "    if not np.isfinite(tmp):\n",
    "        return -np.inf\n",
    "    #print(params)\n",
    "    #print(tmp)\n",
    "    return tmp"
   ]
  },
  {
   "cell_type": "code",
   "execution_count": 67,
   "metadata": {},
   "outputs": [],
   "source": [
    "n_variable = 28\n",
    "number = 100#for test\n"
   ]
  },
  {
   "cell_type": "code",
   "execution_count": 68,
   "metadata": {},
   "outputs": [
    {
     "name": "stderr",
     "output_type": "stream",
     "text": [
      "  0%|          | 0/100 [00:00<?, ?it/s]/Users/guillaumevrijens/opt/anaconda3/envs/pythonProject/lib/python3.9/site-packages/emcee/moves/red_blue.py:99: RuntimeWarning: invalid value encountered in double_scalars\n",
      "  lnpdiff = f + nlp - state.log_prob[j]\n",
      "100%|██████████| 100/100 [00:10<00:00,  9.49it/s]\n"
     ]
    }
   ],
   "source": [
    "import emcee\n",
    "import multiprocess as mp\n",
    "\n",
    "pos = model.parameters + 1e-1 * np.random.randn(56, n_variable) #nwalkers and ndim\n",
    "nwalkers, ndim = pos.shape\n",
    "\n",
    "with mp.Pool() as pool:\n",
    "    sampler = emcee.EnsembleSampler(nwalkers, ndim, log_posterior, \n",
    "                                    args=(), pool=pool)\n",
    "    sampler.run_mcmc(pos, number, progress=True)"
   ]
  },
  {
   "cell_type": "code",
   "execution_count": 69,
   "metadata": {},
   "outputs": [],
   "source": [
    "lastSampler = sampler"
   ]
  },
  {
   "cell_type": "code",
   "execution_count": 70,
   "metadata": {},
   "outputs": [],
   "source": [
    "import matplotlib.pyplot as plt"
   ]
  },
  {
   "cell_type": "code",
   "execution_count": 74,
   "metadata": {},
   "outputs": [
    {
     "data": {
      "text/plain": [
       "Text(0.5, 0, 'step number')"
      ]
     },
     "execution_count": 74,
     "metadata": {},
     "output_type": "execute_result"
    },
    {
     "data": {
      "image/png": "[encoded data removed]",
      "text/plain": [
       "<Figure size 720x504 with 3 Axes>"
      ]
     },
     "metadata": {
      "needs_background": "light"
     },
     "output_type": "display_data"
    }
   ],
   "source": [
    "#To spot problems\n",
    "fig, axes = plt.subplots(3, figsize=(10, 7), sharex=True)\n",
    "samples = lastSampler.get_chain()\n",
    "labels = [\"R\", \"C\", \"log(f)\"]\n",
    "\n",
    "for i in range(3):\n",
    "\n",
    "    ax = axes[i]\n",
    "    ax.plot(samples[:, :, i], \"k\", alpha=0.3)\n",
    "    ax.set_xlim(0, len(samples))\n",
    "    ax.set_ylabel(labels[i])\n",
    "    ax.yaxis.set_label_coords(-0.1, 0.5)\n",
    "\n",
    "axes[-1].set_xlabel(\"step number\")"
   ]
  },
  {
   "cell_type": "code",
   "execution_count": 1,
   "metadata": {},
   "outputs": [
    {
     "name": "stdout",
     "output_type": "stream",
     "text": [
      "[1, 4, 9, 16, 25]\n"
     ]
    }
   ],
   "source": [
    "import multiprocess as mp\n",
    "\n",
    "def f(x):\n",
    "    return x*x\n",
    "\n",
    "with mp.Pool(5) as pool:\n",
    "    print(pool.map(f, [1, 2, 3, 4, 5]))"
   ]
  }
 ],
 "metadata": {
  "interpreter": {
   "hash": "078ed9322b06d741d396cac2ea8655102c70e61c90a651dda52e70383e2aa0f5"
  },
  "kernelspec": {
   "display_name": "Python 3.9.7 64-bit ('pythonProject': conda)",
   "language": "python",
   "name": "python3"
  },
  "language_info": {
   "codemirror_mode": {
    "name": "ipython",
    "version": 3
   },
   "file_extension": ".py",
   "mimetype": "text/x-python",
   "name": "python",
   "nbconvert_exporter": "python",
   "pygments_lexer": "ipython3",
   "version": "3.9.7"
  },
  "orig_nbformat": 4
 },
 "nbformat": 4,
 "nbformat_minor": 2
}
